{
 "cells": [
  {
   "cell_type": "markdown",
   "metadata": {
    "slideshow": {
     "slide_type": "slide"
    }
   },
   "source": [
    "# Basic NLP operations\n",
    "\n",
    "1. Part-of-speech (POS) tagging\n",
    "1. Lemmatization\n",
    "1. Rule-based pattern matching\n",
    "1. Dependency parsing\n",
    "1. Named entity recognition (NER)\n",
    "1. Word embeddings\n",
    "\n",
    "## Tools\n",
    "- Python 3\n",
    "- spaCy"
   ]
  },
  {
   "cell_type": "code",
   "execution_count": 25,
   "metadata": {
    "slideshow": {
     "slide_type": "slide"
    }
   },
   "outputs": [
    {
     "name": "stdout",
     "output_type": "stream",
     "text": [
      "The          DET\n",
      "sky          NOUN\n",
      "above        ADP\n",
      "the          DET\n",
      "port         NOUN\n",
      "was          VERB\n",
      "the          DET\n",
      "color        NOUN\n",
      "of           ADP\n",
      "television   NOUN\n",
      ",            PUNCT\n",
      "tuned        VERB\n",
      "to           ADP\n",
      "a            DET\n",
      "dead         ADJ\n",
      "channel      NOUN\n"
     ]
    }
   ],
   "source": [
    "#\n",
    "# Part-of-speech (POS) tagging\n",
    "#\n",
    "\n",
    "import spacy\n",
    "\n",
    "text = u'The sky above the port was the color of television, tuned to a dead channel.'\n",
    "\n",
    "nlp = spacy.load('en_core_web_sm')\n",
    "doc = nlp(text)\n",
    "\n",
    "for token in doc:\n",
    "    print(f'{token.text:<12} {token.pos_}')"
   ]
  },
  {
   "cell_type": "code",
   "execution_count": 28,
   "metadata": {
    "slideshow": {
     "slide_type": "slide"
    }
   },
   "outputs": [
    {
     "name": "stdout",
     "output_type": "stream",
     "text": [
      "studying     VERB    study\n",
      "studying     NOUN    studying\n"
     ]
    }
   ],
   "source": [
    "#\n",
    "# Lemmatization\n",
    "#\n",
    "\n",
    "import spacy\n",
    "\n",
    "\n",
    "# TODO: znaleźć lepszy przykład - ten trochę zaprzecza temu, co robię później\n",
    "\n",
    "text1 = u'She was studying at a university.'\n",
    "text2 = u'It was time to do some studying!'\n",
    "\n",
    "nlp = spacy.load('en_core_web_sm')\n",
    "doc = nlp(text1 + text2)\n",
    "\n",
    "for token in doc:\n",
    "    if not token.text.startswith(u'study'):\n",
    "        continue\n",
    "    \n",
    "    print(f'{token.text:<12} {token.pos_:<6}  {token.lemma_}')"
   ]
  },
  {
   "cell_type": "code",
   "execution_count": null,
   "metadata": {},
   "outputs": [],
   "source": [
    "#\n",
    "# Using lemmatization to normalize text\n",
    "#\n",
    "\n",
    "text = u'She goes for a walk every day. He was going to a cinema. There have gone to work. I went home.'"
   ]
  },
  {
   "cell_type": "code",
   "execution_count": null,
   "metadata": {
    "slideshow": {
     "slide_type": "slide"
    }
   },
   "outputs": [],
   "source": [
    "#\n",
    "# Rule-based pattern matching\n",
    "#\n"
   ]
  },
  {
   "cell_type": "code",
   "execution_count": null,
   "metadata": {
    "slideshow": {
     "slide_type": "slide"
    }
   },
   "outputs": [],
   "source": [
    "#\n",
    "# Dependency parsing\n",
    "#\n"
   ]
  },
  {
   "cell_type": "code",
   "execution_count": null,
   "metadata": {
    "slideshow": {
     "slide_type": "slide"
    }
   },
   "outputs": [],
   "source": [
    "#\n",
    "# Named entity recognition (NER)\n",
    "#\n"
   ]
  },
  {
   "cell_type": "code",
   "execution_count": null,
   "metadata": {
    "slideshow": {
     "slide_type": "slide"
    }
   },
   "outputs": [],
   "source": [
    "#\n",
    "# Word embeddings\n",
    "#"
   ]
  }
 ],
 "metadata": {
  "celltoolbar": "Slideshow",
  "kernelspec": {
   "display_name": "Python 3",
   "language": "python",
   "name": "python3"
  },
  "language_info": {
   "codemirror_mode": {
    "name": "ipython",
    "version": 3
   },
   "file_extension": ".py",
   "mimetype": "text/x-python",
   "name": "python",
   "nbconvert_exporter": "python",
   "pygments_lexer": "ipython3",
   "version": "3.7.4"
  }
 },
 "nbformat": 4,
 "nbformat_minor": 2
}
