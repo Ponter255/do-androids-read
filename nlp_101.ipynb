{
 "cells": [
  {
   "cell_type": "markdown",
   "metadata": {
    "slideshow": {
     "slide_type": "slide"
    }
   },
   "source": [
    "\n",
    "# Basic NLP operations\n",
    "\n",
    "1. Lemmatization\n",
    "1. Part-of-speech (POS) tagging\n",
    "1. Dependency parsing\n",
    "1. Rule-based pattern matching\n",
    "1. Named entity recognition (NER)\n",
    "1. Word embeddings\n",
    "\n",
    "## Tools\n",
    "- Python 3\n",
    "- spaCy"
   ]
  },
  {
   "cell_type": "code",
   "execution_count": null,
   "metadata": {
    "slideshow": {
     "slide_type": "slide"
    }
   },
   "outputs": [],
   "source": [
    "# spaCy\n",
    "import spacy\n",
    "nlp = spacy.load('en_core_web_sm')"
   ]
  },
  {
   "cell_type": "code",
   "execution_count": null,
   "metadata": {
    "slideshow": {
     "slide_type": "slide"
    }
   },
   "outputs": [],
   "source": [
    "#\n",
    "# Lemmatization\n",
    "#\n",
    "\n",
    "text = u'''She goes for a walk every day.\n",
    "           He was going to the cinema in the evening.\n",
    "           They have already gone to work.\n",
    "           I took my coffee to go and went home.'''\n",
    "word_to_find = u'go'"
   ]
  },
  {
   "cell_type": "code",
   "execution_count": null,
   "metadata": {
    "slideshow": {
     "slide_type": "fragment"
    }
   },
   "outputs": [],
   "source": [
    "doc = nlp(text)\n",
    "\n",
    "for token in doc:\n",
    "    if token.lemma_ != word_to_find:\n",
    "        continue\n",
    "        \n",
    "    print(f'{token.text:<8} {token.lemma_}')"
   ]
  },
  {
   "cell_type": "code",
   "execution_count": null,
   "metadata": {
    "slideshow": {
     "slide_type": "slide"
    }
   },
   "outputs": [],
   "source": [
    "#\n",
    "# Part-of-speech (POS) tagging\n",
    "#\n",
    "\n",
    "text = u'The sky above the port was the color of television, tuned to a dead channel.'"
   ]
  },
  {
   "cell_type": "code",
   "execution_count": null,
   "metadata": {
    "slideshow": {
     "slide_type": "fragment"
    }
   },
   "outputs": [],
   "source": [
    "doc = nlp(text)\n",
    "\n",
    "for token in doc:\n",
    "    print(f'{token.text:<12} {token.pos_}')"
   ]
  },
  {
   "cell_type": "code",
   "execution_count": null,
   "metadata": {
    "slideshow": {
     "slide_type": "slide"
    }
   },
   "outputs": [],
   "source": [
    "#\n",
    "# Dependency parsing\n",
    "#\n",
    "\n",
    "text = u'Bob never took Spanish at school.'\n",
    "doc = nlp(text)"
   ]
  },
  {
   "cell_type": "code",
   "execution_count": null,
   "metadata": {
    "slideshow": {
     "slide_type": "fragment"
    }
   },
   "outputs": [],
   "source": [
    "from spacy import displacy\n",
    "\n",
    "displacy.render(doc, style=\"dep\", jupyter=True)"
   ]
  },
  {
   "cell_type": "code",
   "execution_count": null,
   "metadata": {
    "slideshow": {
     "slide_type": "slide"
    }
   },
   "outputs": [],
   "source": [
    "#\n",
    "# Rule-based pattern matching\n",
    "#\n",
    "\n",
    "text = u'''Corrective actions to previous audit findings are not implemented in a timely manner or\n",
    "           are not always documented. There are even some finding that were never discussed within the team.'''\n",
    "doc = nlp(text)"
   ]
  },
  {
   "cell_type": "code",
   "execution_count": null,
   "metadata": {
    "slideshow": {
     "slide_type": "fragment"
    }
   },
   "outputs": [],
   "source": [
    "from spacy.matcher import Matcher\n",
    "\n",
    "negated_verb_pattern = [ {'DEP': 'neg'}, {'POS': 'VERB'} ]\n",
    "\n",
    "matcher = Matcher(nlp.vocab)\n",
    "matcher.add('NEGATED_VERB', None, negated_verb_pattern)\n",
    "matches = matcher(doc)\n",
    "\n",
    "for rule_id, start_token, end_token in matches:\n",
    "    print(doc[start_token:end_token])"
   ]
  },
  {
   "cell_type": "code",
   "execution_count": null,
   "metadata": {
    "slideshow": {
     "slide_type": "fragment"
    }
   },
   "outputs": [],
   "source": [
    "# Token attributes - https://spacy.io/usage/linguistic-features#adding-patterns-attributes\n",
    "#    DEP - syntactic dependency\n",
    "#    OP  - quantifier (`?` means optional)\n",
    "\n",
    "# Dependency tokens - https://stackoverflow.com/a/40288324/95\n",
    "#    neg    - negation modifier\n",
    "#    advmod - adverbial modifier\n",
    "\n",
    "# {'DEP': 'advmod', 'OP': '?'}, "
   ]
  },
  {
   "cell_type": "code",
   "execution_count": null,
   "metadata": {
    "slideshow": {
     "slide_type": "slide"
    }
   },
   "outputs": [],
   "source": [
    "#\n",
    "# Named entity recognition (NER)\n",
    "#\n",
    "\n",
    "text = u'Marek Grzenkowicz came to the Devoxx conference from Poland yesterday around 11 AM.'\n",
    "doc = nlp(text)"
   ]
  },
  {
   "cell_type": "code",
   "execution_count": null,
   "metadata": {
    "slideshow": {
     "slide_type": "fragment"
    }
   },
   "outputs": [],
   "source": [
    "from spacy import displacy\n",
    "\n",
    "displacy.render(doc, style=\"ent\", jupyter=True)\n",
    "\n",
    "# Supported entity types: https://spacy.io/api/annotation#named-entities"
   ]
  },
  {
   "cell_type": "code",
   "execution_count": null,
   "metadata": {
    "slideshow": {
     "slide_type": "slide"
    }
   },
   "outputs": [],
   "source": [
    "#\n",
    "# Word embeddings\n",
    "#"
   ]
  }
 ],
 "metadata": {
  "celltoolbar": "Slideshow",
  "kernelspec": {
   "display_name": "Python 3",
   "language": "python",
   "name": "python3"
  },
  "language_info": {
   "codemirror_mode": {
    "name": "ipython",
    "version": 3
   },
   "file_extension": ".py",
   "mimetype": "text/x-python",
   "name": "python",
   "nbconvert_exporter": "python",
   "pygments_lexer": "ipython3",
   "version": "3.7.4"
  },
  "pycharm": {
   "stem_cell": {
    "cell_type": "raw",
    "metadata": {
     "collapsed": false
    },
    "source": []
   }
  }
 },
 "nbformat": 4,
 "nbformat_minor": 2
}
